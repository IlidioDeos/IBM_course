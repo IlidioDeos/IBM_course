{
 "cells": [
  {
   "cell_type": "markdown",
   "metadata": {},
   "source": [
    "<p style=\"text-align:center\">\n",
    "    <a href=\"https://skills.network\" target=\"_blank\">\n",
    "    <img src=\"https://cf-courses-data.s3.us.cloud-object-storage.appdomain.cloud/assets/logos/SN_web_lightmode.png\" width=\"200\" alt=\"Skills Network Logo\">\n",
    "    </a>\n",
    "</p>\n",
    "\n",
    "<h1 align=center><font size = 5>Assignment: SQL Notebook for Peer Assignment</font></h1>\n",
    "\n",
    "Estimated time needed: **60** minutes.\n",
    "\n",
    "## Introduction\n",
    "Using this Python notebook you will:\n",
    "\n",
    "1.  Understand the Spacex DataSet\n",
    "2.  Load the dataset  into the corresponding table in a Db2 database\n",
    "3.  Execute SQL queries to answer assignment questions \n"
   ]
  },
  {
   "cell_type": "markdown",
   "metadata": {},
   "source": [
    "## Overview of the DataSet\n",
    "\n",
    "SpaceX has gained worldwide attention for a series of historic milestones. \n",
    "\n",
    "It is the only private company ever to return a spacecraft from low-earth orbit, which it first accomplished in December 2010.\n",
    "SpaceX advertises Falcon 9 rocket launches on its website with a cost of 62 million dollars wheras other providers cost upward of 165 million dollars each, much of the savings is because Space X can reuse the first stage. \n",
    "\n",
    "\n",
    "Therefore if we can determine if the first stage will land, we can determine the cost of a launch. \n",
    "\n",
    "This information can be used if an alternate company wants to bid against SpaceX for a rocket launch.\n",
    "\n",
    "This dataset includes a record for each payload carried during a SpaceX mission into outer space.\n"
   ]
  },
  {
   "cell_type": "markdown",
   "metadata": {},
   "source": [
    "### Download the datasets\n",
    "\n",
    "This assignment requires you to load the spacex dataset.\n",
    "\n",
    "In many cases the dataset to be analyzed is available as a .CSV (comma separated values) file, perhaps on the internet. Click on the link below to download and save the dataset (.CSV file):\n",
    "\n",
    " <a href=\"https://cf-courses-data.s3.us.cloud-object-storage.appdomain.cloud/IBM-DS0321EN-SkillsNetwork/labs/module_2/data/Spacex.csv\" target=\"_blank\">Spacex DataSet</a>\n",
    "\n"
   ]
  },
  {
   "cell_type": "code",
   "execution_count": 1,
   "metadata": {
    "tags": []
   },
   "outputs": [
    {
     "name": "stdout",
     "output_type": "stream",
     "text": [
      "Collecting sqlalchemy==1.3.9\n",
      "  Downloading SQLAlchemy-1.3.9.tar.gz (6.0 MB)\n",
      "\u001b[2K     \u001b[90m━━━━━━━━━━━━━━━━━━━━━━━━━━━━━━━━━━━━━━━━\u001b[0m \u001b[32m6.0/6.0 MB\u001b[0m \u001b[31m53.3 MB/s\u001b[0m eta \u001b[36m0:00:00\u001b[0m:00:01\u001b[0m00:01\u001b[0m\n",
      "\u001b[?25h  Preparing metadata (setup.py) ... \u001b[?25ldone\n",
      "\u001b[?25hBuilding wheels for collected packages: sqlalchemy\n",
      "  Building wheel for sqlalchemy (setup.py) ... \u001b[?25ldone\n",
      "\u001b[?25h  Created wheel for sqlalchemy: filename=SQLAlchemy-1.3.9-cp37-cp37m-linux_x86_64.whl size=1159121 sha256=7635a3f7db3f5638b14f29c6f347b6c1b4459e932566be64ee757b782e105f14\n",
      "  Stored in directory: /home/jupyterlab/.cache/pip/wheels/03/71/13/010faf12246f72dc76b4150e6e599d13a85b4435e06fb9e51f\n",
      "Successfully built sqlalchemy\n",
      "Installing collected packages: sqlalchemy\n",
      "  Attempting uninstall: sqlalchemy\n",
      "    Found existing installation: SQLAlchemy 1.3.24\n",
      "    Uninstalling SQLAlchemy-1.3.24:\n",
      "      Successfully uninstalled SQLAlchemy-1.3.24\n",
      "Successfully installed sqlalchemy-1.3.9\n"
     ]
    }
   ],
   "source": [
    "!pip install sqlalchemy==1.3.9\n"
   ]
  },
  {
   "cell_type": "markdown",
   "metadata": {},
   "source": [
    "### Connect to the database\n",
    "\n",
    "Let us first load the SQL extension and establish a connection with the database\n"
   ]
  },
  {
   "cell_type": "code",
   "execution_count": 2,
   "metadata": {
    "tags": []
   },
   "outputs": [],
   "source": [
    "%load_ext sql"
   ]
  },
  {
   "cell_type": "code",
   "execution_count": 3,
   "metadata": {
    "tags": []
   },
   "outputs": [],
   "source": [
    "import csv, sqlite3\n",
    "\n",
    "con = sqlite3.connect(\"my_data1.db\")\n",
    "cur = con.cursor()"
   ]
  },
  {
   "cell_type": "code",
   "execution_count": 4,
   "metadata": {
    "tags": []
   },
   "outputs": [],
   "source": [
    "!pip install -q pandas==1.1.5"
   ]
  },
  {
   "cell_type": "code",
   "execution_count": 5,
   "metadata": {
    "tags": []
   },
   "outputs": [
    {
     "data": {
      "text/plain": [
       "'Connected: @my_data1.db'"
      ]
     },
     "execution_count": 5,
     "metadata": {},
     "output_type": "execute_result"
    }
   ],
   "source": [
    "%sql sqlite:///my_data1.db"
   ]
  },
  {
   "cell_type": "code",
   "execution_count": 7,
   "metadata": {
    "tags": []
   },
   "outputs": [],
   "source": [
    "import pandas as pd\n",
    "df = pd.read_csv(\"https://cf-courses-data.s3.us.cloud-object-storage.appdomain.cloud/IBM-DS0321EN-SkillsNetwork/labs/module_2/data/Spacex.csv\")\n",
    "df.to_sql(\"SPACEXTBL\", con, if_exists='replace', index=False,method=\"multi\")"
   ]
  },
  {
   "cell_type": "markdown",
   "metadata": {},
   "source": [
    "**Note:This below code is added to remove blank rows from table**\n"
   ]
  },
  {
   "cell_type": "code",
   "execution_count": 8,
   "metadata": {
    "tags": []
   },
   "outputs": [
    {
     "name": "stdout",
     "output_type": "stream",
     "text": [
      " * sqlite:///my_data1.db\n",
      "Done.\n"
     ]
    },
    {
     "data": {
      "text/plain": [
       "[]"
      ]
     },
     "execution_count": 8,
     "metadata": {},
     "output_type": "execute_result"
    }
   ],
   "source": [
    "%sql create table SPACEXTABLE as select * from SPACEXTBL where Date is not null"
   ]
  },
  {
   "cell_type": "markdown",
   "metadata": {},
   "source": [
    "## Tasks\n",
    "\n",
    "Now write and execute SQL queries to solve the assignment tasks.\n",
    "\n",
    "**Note: If the column names are in mixed case enclose it in double quotes\n",
    "   For Example \"Landing_Outcome\"**\n",
    "\n",
    "### Task 1\n",
    "\n",
    "\n",
    "\n",
    "\n",
    "##### Display the names of the unique launch sites  in the space mission\n"
   ]
  },
  {
   "cell_type": "code",
   "execution_count": 20,
   "metadata": {
    "tags": []
   },
   "outputs": [
    {
     "name": "stdout",
     "output_type": "stream",
     "text": [
      "['Date', 'Time (UTC)', 'Booster_Version', 'Launch_Site', 'Payload', 'PAYLOAD_MASS__KG_', 'Orbit', 'Customer', 'Mission_Outcome', 'Landing_Outcome']\n",
      "\n",
      "===========\n",
      "\n",
      "CCAFS LC-40\n",
      "VAFB SLC-4E\n",
      "KSC LC-39A\n",
      "CCAFS SLC-40\n"
     ]
    }
   ],
   "source": [
    "# Nome da sua tabela\n",
    "tabela = 'SPACEXTABLE'\n",
    "\n",
    "# Consulta para obter os nomes das colunas\n",
    "query = f\"PRAGMA table_info({tabela});\"\n",
    "\n",
    "# Executar a consulta e armazenar os resultados em um DataFrame do Pandas\n",
    "resultado = pd.read_sql_query(query, con)\n",
    "\n",
    "# Mostrar os nomes das colunas\n",
    "print(resultado['name'].tolist())\n",
    "print(\"\\n===========\\n\")\n",
    "# Consulta para obter os nomes únicos dos locais de lançamento\n",
    "query_launch_sites = \"SELECT DISTINCT Launch_Site FROM SPACEXTABLE;\"\n",
    "\n",
    "# Executar a consulta e armazenar os resultados em um DataFrame do Pandas\n",
    "launch_sites = pd.read_sql_query(query_launch_sites, con)\n",
    "\n",
    "# Mostrar os nomes únicos dos locais de lançamento\n",
    "for site in launch_sites['Launch_Site']:\n",
    "    print(site)\n"
   ]
  },
  {
   "cell_type": "markdown",
   "metadata": {},
   "source": [
    "\n",
    "### Task 2\n",
    "\n",
    "\n",
    "#####  Display 5 records where launch sites begin with the string 'CCA' \n"
   ]
  },
  {
   "cell_type": "code",
   "execution_count": 22,
   "metadata": {
    "tags": []
   },
   "outputs": [
    {
     "name": "stdout",
     "output_type": "stream",
     "text": [
      "Date                                           2010-06-04\n",
      "Time (UTC)                                       18:45:00\n",
      "Booster_Version                            F9 v1.0  B0003\n",
      "Launch_Site                                   CCAFS LC-40\n",
      "Payload              Dragon Spacecraft Qualification Unit\n",
      "PAYLOAD_MASS__KG_                                       0\n",
      "Orbit                                                 LEO\n",
      "Customer                                           SpaceX\n",
      "Mission_Outcome                                   Success\n",
      "Landing_Outcome                       Failure (parachute)\n",
      "Name: 0, dtype: object\n",
      "Date                                                        2010-12-08\n",
      "Time (UTC)                                                    15:43:00\n",
      "Booster_Version                                         F9 v1.0  B0004\n",
      "Launch_Site                                                CCAFS LC-40\n",
      "Payload              Dragon demo flight C1, two CubeSats, barrel of...\n",
      "PAYLOAD_MASS__KG_                                                    0\n",
      "Orbit                                                        LEO (ISS)\n",
      "Customer                                               NASA (COTS) NRO\n",
      "Mission_Outcome                                                Success\n",
      "Landing_Outcome                                    Failure (parachute)\n",
      "Name: 1, dtype: object\n",
      "Date                            2012-05-22\n",
      "Time (UTC)                         7:44:00\n",
      "Booster_Version             F9 v1.0  B0005\n",
      "Launch_Site                    CCAFS LC-40\n",
      "Payload              Dragon demo flight C2\n",
      "PAYLOAD_MASS__KG_                      525\n",
      "Orbit                            LEO (ISS)\n",
      "Customer                       NASA (COTS)\n",
      "Mission_Outcome                    Success\n",
      "Landing_Outcome                 No attempt\n",
      "Name: 2, dtype: object\n",
      "Date                     2012-10-08\n",
      "Time (UTC)                  0:35:00\n",
      "Booster_Version      F9 v1.0  B0006\n",
      "Launch_Site             CCAFS LC-40\n",
      "Payload                SpaceX CRS-1\n",
      "PAYLOAD_MASS__KG_               500\n",
      "Orbit                     LEO (ISS)\n",
      "Customer                 NASA (CRS)\n",
      "Mission_Outcome             Success\n",
      "Landing_Outcome          No attempt\n",
      "Name: 3, dtype: object\n",
      "Date                     2013-03-01\n",
      "Time (UTC)                 15:10:00\n",
      "Booster_Version      F9 v1.0  B0007\n",
      "Launch_Site             CCAFS LC-40\n",
      "Payload                SpaceX CRS-2\n",
      "PAYLOAD_MASS__KG_               677\n",
      "Orbit                     LEO (ISS)\n",
      "Customer                 NASA (CRS)\n",
      "Mission_Outcome             Success\n",
      "Landing_Outcome          No attempt\n",
      "Name: 4, dtype: object\n"
     ]
    }
   ],
   "source": [
    "# Consulta para obter 5 registros onde o Launch_Site começa com 'CCA'\n",
    "query_records = \"SELECT * FROM SPACEXTABLE WHERE Launch_Site LIKE 'CCA%' LIMIT 5;\"\n",
    "\n",
    "# Executar a consulta e armazenar os resultados em um DataFrame do Pandas\n",
    "records_starting_with_CCA = pd.read_sql_query(query_records, con)\n",
    "\n",
    "# Mostrar os registros um a um\n",
    "for index, row in records_starting_with_CCA.iterrows():\n",
    "    print(row)"
   ]
  },
  {
   "cell_type": "markdown",
   "metadata": {},
   "source": [
    "### Task 3\n",
    "\n",
    "\n",
    "\n",
    "\n",
    "##### Display the total payload mass carried by boosters launched by NASA (CRS)\n"
   ]
  },
  {
   "cell_type": "code",
   "execution_count": 23,
   "metadata": {
    "tags": []
   },
   "outputs": [
    {
     "name": "stdout",
     "output_type": "stream",
     "text": [
      "Total Payload Mass Carried by NASA (CRS) Boosters:\n",
      "48213 kg\n"
     ]
    }
   ],
   "source": [
    "# Consulta para calcular a soma da carga útil transportada por foguetes lançados pela NASA (CRS)\n",
    "query_total_payload_nasa = \"SELECT SUM(PAYLOAD_MASS__KG_) AS Total_Payload_NASA_CRS FROM SPACEXTABLE WHERE Customer LIKE '%NASA (CRS)%';\"\n",
    "\n",
    "# Executar a consulta e armazenar os resultados em um DataFrame do Pandas\n",
    "total_payload_nasa_crs = pd.read_sql_query(query_total_payload_nasa, con)\n",
    "\n",
    "# Mostrar a massa total da carga útil transportada por foguetes lançados pela NASA (CRS)\n",
    "print(\"Total Payload Mass Carried by NASA (CRS) Boosters:\")\n",
    "print(total_payload_nasa_crs['Total_Payload_NASA_CRS'][0], \"kg\")\n"
   ]
  },
  {
   "cell_type": "markdown",
   "metadata": {},
   "source": [
    "### Task 4\n",
    "\n",
    "\n",
    "\n",
    "\n",
    "##### Display average payload mass carried by booster version F9 v1.1\n"
   ]
  },
  {
   "cell_type": "code",
   "execution_count": 24,
   "metadata": {
    "tags": []
   },
   "outputs": [
    {
     "name": "stdout",
     "output_type": "stream",
     "text": [
      "Average Payload Mass Carried by Booster Version F9 v1.1:\n",
      "2928.4 kg\n"
     ]
    }
   ],
   "source": [
    "# Consulta para calcular a média da carga útil transportada pela versão do foguete F9 v1.1\n",
    "query_avg_payload_f9_v1_1 = \"SELECT AVG(PAYLOAD_MASS__KG_) AS Avg_Payload_F9_v1_1 FROM SPACEXTABLE WHERE Booster_Version = 'F9 v1.1';\"\n",
    "\n",
    "# Executar a consulta e armazenar os resultados em um DataFrame do Pandas\n",
    "avg_payload_f9_v1_1 = pd.read_sql_query(query_avg_payload_f9_v1_1, con)\n",
    "\n",
    "# Mostrar a média da massa da carga útil transportada pela versão do foguete F9 v1.1\n",
    "print(\"Average Payload Mass Carried by Booster Version F9 v1.1:\")\n",
    "print(avg_payload_f9_v1_1['Avg_Payload_F9_v1_1'][0], \"kg\")\n"
   ]
  },
  {
   "cell_type": "markdown",
   "metadata": {},
   "source": [
    "### Task 5\n",
    "\n",
    "##### List the date when the first succesful landing outcome in ground pad was acheived.\n",
    "\n",
    "\n",
    "_Hint:Use min function_ \n"
   ]
  },
  {
   "cell_type": "code",
   "execution_count": 25,
   "metadata": {
    "tags": []
   },
   "outputs": [
    {
     "name": "stdout",
     "output_type": "stream",
     "text": [
      "Date of First Successful Landing on Ground Pad:\n",
      "2015-12-22\n"
     ]
    }
   ],
   "source": [
    "# Consulta para encontrar a data do primeiro pouso bem-sucedido em um pad terrestre\n",
    "query_first_successful_landing = \"SELECT MIN(Date) AS First_Successful_Landing_On_Ground_Pad FROM SPACEXTABLE WHERE Landing_Outcome LIKE 'Success (ground pad)';\"\n",
    "\n",
    "# Executar a consulta e armazenar os resultados em um DataFrame do Pandas\n",
    "first_successful_landing = pd.read_sql_query(query_first_successful_landing, con)\n",
    "\n",
    "# Mostrar a data do primeiro pouso bem-sucedido em um pad terrestre\n",
    "print(\"Date of First Successful Landing on Ground Pad:\")\n",
    "print(first_successful_landing['First_Successful_Landing_On_Ground_Pad'][0])\n"
   ]
  },
  {
   "cell_type": "markdown",
   "metadata": {},
   "source": [
    "### Task 6\n",
    "\n",
    "##### List the names of the boosters which have success in drone ship and have payload mass greater than 4000 but less than 6000\n"
   ]
  },
  {
   "cell_type": "code",
   "execution_count": 26,
   "metadata": {
    "tags": []
   },
   "outputs": [
    {
     "name": "stdout",
     "output_type": "stream",
     "text": [
      "Boosters with Success in Drone Ship and Payload Mass between 4000 and 6000:\n",
      "['F9 FT B1022', 'F9 FT B1026', 'F9 FT  B1021.2', 'F9 FT  B1031.2']\n"
     ]
    }
   ],
   "source": [
    "# Consulta para encontrar os nomes dos boosters que tiveram sucesso em um drone ship e a carga útil foi entre 4000 e 6000\n",
    "query_boosters = \"\"\"\n",
    "    SELECT Booster_Version \n",
    "    FROM SPACEXTABLE \n",
    "    WHERE Landing_Outcome = 'Success (drone ship)' \n",
    "    AND PAYLOAD_MASS__KG_ > 4000 \n",
    "    AND PAYLOAD_MASS__KG_ < 6000;\n",
    "\"\"\"\n",
    "\n",
    "# Executar a consulta e armazenar os resultados em um DataFrame do Pandas\n",
    "successful_boosters = pd.read_sql_query(query_boosters, con)\n",
    "\n",
    "# Mostrar os nomes dos boosters que satisfazem os critérios\n",
    "print(\"Boosters with Success in Drone Ship and Payload Mass between 4000 and 6000:\")\n",
    "print(successful_boosters['Booster_Version'].tolist())\n"
   ]
  },
  {
   "cell_type": "markdown",
   "metadata": {},
   "source": [
    "### Task 7\n",
    "\n",
    "\n",
    "\n",
    "\n",
    "##### List the total number of successful and failure mission outcomes\n"
   ]
  },
  {
   "cell_type": "code",
   "execution_count": 28,
   "metadata": {
    "tags": []
   },
   "outputs": [
    {
     "name": "stdout",
     "output_type": "stream",
     "text": [
      "Total Number of Successful and Failed Mission Outcomes:\n",
      "Success : 98\n"
     ]
    }
   ],
   "source": [
    "# Consulta para contar o número total de missões bem-sucedidas e falhas\n",
    "query_mission_outcomes = \"\"\"\n",
    "    SELECT Mission_Outcome, COUNT(*) as Total\n",
    "    FROM SPACEXTABLE\n",
    "    WHERE Mission_Outcome IN ('Success', 'Failure')\n",
    "    GROUP BY Mission_Outcome;\n",
    "\"\"\"\n",
    "\n",
    "# Executar a consulta e armazenar os resultados em um DataFrame do Pandas\n",
    "mission_outcomes_count = pd.read_sql_query(query_mission_outcomes, con)\n",
    "\n",
    "# Mostrar o número total de missões bem-sucedidas e falhas\n",
    "print(\"Total Number of Successful and Failed Mission Outcomes:\")\n",
    "for index, row in mission_outcomes_count.iterrows():\n",
    "    print(row['Mission_Outcome'], \":\", row['Total'])\n"
   ]
  },
  {
   "cell_type": "markdown",
   "metadata": {},
   "source": [
    "### Task 8\n",
    "\n",
    "\n",
    "\n",
    "##### List the   names of the booster_versions which have carried the maximum payload mass. Use a subquery\n"
   ]
  },
  {
   "cell_type": "code",
   "execution_count": 29,
   "metadata": {
    "tags": []
   },
   "outputs": [
    {
     "name": "stdout",
     "output_type": "stream",
     "text": [
      "Booster Versions that Carried the Maximum Payload Mass:\n",
      "['F9 B5 B1048.4', 'F9 B5 B1049.4', 'F9 B5 B1051.3', 'F9 B5 B1056.4', 'F9 B5 B1048.5', 'F9 B5 B1051.4', 'F9 B5 B1049.5', 'F9 B5 B1060.2 ', 'F9 B5 B1058.3 ', 'F9 B5 B1051.6', 'F9 B5 B1060.3', 'F9 B5 B1049.7 ']\n"
     ]
    }
   ],
   "source": [
    "# Consulta para encontrar as booster_versions que transportaram a carga útil máxima\n",
    "query_max_payload_boosters = \"\"\"\n",
    "    SELECT Booster_Version\n",
    "    FROM SPACEXTABLE\n",
    "    WHERE PAYLOAD_MASS__KG_ = (\n",
    "        SELECT MAX(PAYLOAD_MASS__KG_) \n",
    "        FROM SPACEXTABLE\n",
    "    );\n",
    "\"\"\"\n",
    "\n",
    "# Executar a consulta e armazenar os resultados em um DataFrame do Pandas\n",
    "max_payload_boosters = pd.read_sql_query(query_max_payload_boosters, con)\n",
    "\n",
    "# Mostrar os nomes das booster_versions que transportaram a carga útil máxima\n",
    "print(\"Booster Versions that Carried the Maximum Payload Mass:\")\n",
    "print(max_payload_boosters['Booster_Version'].tolist())\n"
   ]
  },
  {
   "cell_type": "markdown",
   "metadata": {},
   "source": [
    "### Task 9\n",
    "\n",
    "\n",
    "##### List the records which will display the month names, failure landing_outcomes in drone ship ,booster versions, launch_site for the months in year 2015.\n",
    "\n",
    "**Note: SQLLite does not support monthnames. So you need to use  substr(Date, 6,2) as month to get the months and substr(Date,0,5)='2015' for year.**\n"
   ]
  },
  {
   "cell_type": "code",
   "execution_count": 31,
   "metadata": {
    "tags": []
   },
   "outputs": [
    {
     "name": "stdout",
     "output_type": "stream",
     "text": [
      "Records for Failure Landing Outcomes on Drone Ship in 2015:\n",
      "Year_Month                      2015-01\n",
      "Landing_Outcome    Failure (drone ship)\n",
      "Booster_Version           F9 v1.1 B1012\n",
      "Launch_Site                 CCAFS LC-40\n",
      "Name: 0, dtype: object\n",
      "Year_Month                      2015-04\n",
      "Landing_Outcome    Failure (drone ship)\n",
      "Booster_Version           F9 v1.1 B1015\n",
      "Launch_Site                 CCAFS LC-40\n",
      "Name: 1, dtype: object\n"
     ]
    }
   ],
   "source": [
    "# Consulta para listar os registros com os dados requisitados para o ano de 2015\n",
    "query_2015_failures = \"\"\"\n",
    "    SELECT strftime('%Y-%m', Date) as Year_Month, Landing_Outcome, Booster_Version, Launch_Site\n",
    "    FROM SPACEXTABLE\n",
    "    WHERE strftime('%Y', Date) = '2015' AND Landing_Outcome LIKE '%Failure%' AND Landing_Outcome LIKE '%drone ship%'\n",
    "\"\"\"\n",
    "\n",
    "# Executar a consulta e armazenar os resultados em um DataFrame do Pandas\n",
    "failures_2015 = pd.read_sql_query(query_2015_failures, con)\n",
    "\n",
    "# Mostrar os registros que satisfazem os critérios\n",
    "print(\"Records for Failure Landing Outcomes on Drone Ship in 2015:\")\n",
    "for index, row in failures_2015.iterrows():\n",
    "    print(row)\n"
   ]
  },
  {
   "cell_type": "markdown",
   "metadata": {},
   "source": [
    "### Task 10\n",
    "\n",
    "\n",
    "\n",
    "\n",
    "##### Rank the count of landing outcomes (such as Failure (drone ship) or Success (ground pad)) between the date 2010-06-04 and 2017-03-20, in descending order.\n"
   ]
  },
  {
   "cell_type": "code",
   "execution_count": 33,
   "metadata": {
    "tags": []
   },
   "outputs": [
    {
     "name": "stdout",
     "output_type": "stream",
     "text": [
      "Ranking of Landing Outcomes between '2010-06-04' and '2017-03-20':\n",
      "Landing_Outcome    Failure (drone ship)\n",
      "Outcome_Count                         5\n",
      "Name: 0, dtype: object\n",
      "Landing_Outcome    Success (ground pad)\n",
      "Outcome_Count                         3\n",
      "Name: 1, dtype: object\n"
     ]
    }
   ],
   "source": [
    "# Consulta para classificar a contagem de resultados de pousos entre as datas especificadas\n",
    "query_landing_outcomes = \"\"\"\n",
    "    SELECT Landing_Outcome, COUNT(*) as Outcome_Count\n",
    "    FROM SPACEXTABLE\n",
    "    WHERE Date BETWEEN '2010-06-04' AND '2017-03-20'\n",
    "    AND Landing_Outcome IN ('Failure (drone ship)', 'Success (ground pad)')\n",
    "    GROUP BY Landing_Outcome\n",
    "    ORDER BY Outcome_Count DESC;\n",
    "\"\"\"\n",
    "\n",
    "# Executar a consulta e armazenar os resultados em um DataFrame do Pandas\n",
    "landing_outcomes_rank = pd.read_sql_query(query_landing_outcomes, con)\n",
    "\n",
    "# Mostrar o ranking da contagem de resultados de pousos\n",
    "print(\"Ranking of Landing Outcomes between '2010-06-04' and '2017-03-20':\")\n",
    "for index, row in landing_outcomes_rank.iterrows():\n",
    "    print(row)\n"
   ]
  },
  {
   "cell_type": "markdown",
   "metadata": {},
   "source": [
    "### Reference Links\n",
    "\n",
    "* <a href =\"https://cf-courses-data.s3.us.cloud-object-storage.appdomain.cloud/IBMDeveloperSkillsNetwork-DB0201EN-SkillsNetwork/labs/Labs_Coursera_V5/labs/Lab%20-%20String%20Patterns%20-%20Sorting%20-%20Grouping/instructional-labs.md.html?origin=www.coursera.org\">Hands-on Lab : String Patterns, Sorting and Grouping</a>  \n",
    "\n",
    "*  <a  href=\"https://cf-courses-data.s3.us.cloud-object-storage.appdomain.cloud/IBMDeveloperSkillsNetwork-DB0201EN-SkillsNetwork/labs/Labs_Coursera_V5/labs/Lab%20-%20Built-in%20functions%20/Hands-on_Lab__Built-in_Functions.md.html?origin=www.coursera.org\">Hands-on Lab: Built-in functions</a>\n",
    "\n",
    "*  <a  href=\"https://cf-courses-data.s3.us.cloud-object-storage.appdomain.cloud/IBMDeveloperSkillsNetwork-DB0201EN-SkillsNetwork/labs/Labs_Coursera_V5/labs/Lab%20-%20Sub-queries%20and%20Nested%20SELECTs%20/instructional-labs.md.html?origin=www.coursera.org\">Hands-on Lab : Sub-queries and Nested SELECT Statements</a>\n",
    "\n",
    "*   <a href=\"https://cf-courses-data.s3.us.cloud-object-storage.appdomain.cloud/IBMDeveloperSkillsNetwork-DB0201EN-SkillsNetwork/labs/Module%205/DB0201EN-Week3-1-3-SQLmagic.ipynb\">Hands-on Tutorial: Accessing Databases with SQL magic</a>\n",
    "\n",
    "*  <a href= \"https://cf-courses-data.s3.us.cloud-object-storage.appdomain.cloud/IBMDeveloperSkillsNetwork-DB0201EN-SkillsNetwork/labs/Module%205/DB0201EN-Week3-1-4-Analyzing.ipynb\">Hands-on Lab: Analyzing a real World Data Set</a>\n",
    "\n",
    "\n"
   ]
  },
  {
   "cell_type": "markdown",
   "metadata": {},
   "source": [
    "## Author(s)\n",
    "\n",
    "<h4> Lakshmi Holla </h4>\n"
   ]
  },
  {
   "cell_type": "markdown",
   "metadata": {},
   "source": [
    "## Other Contributors\n",
    "\n",
    "<h4> Rav Ahuja </h4>\n"
   ]
  },
  {
   "cell_type": "markdown",
   "metadata": {},
   "source": [
    "## Change log\n",
    "| Date | Version | Changed by | Change Description |\n",
    "|------|--------|--------|---------|\n",
    "| 2021-07-09 | 0.2 |Lakshmi Holla | Changes made in magic sql|\n",
    "| 2021-05-20 | 0.1 |Lakshmi Holla | Created Initial Version |\n"
   ]
  },
  {
   "cell_type": "markdown",
   "metadata": {},
   "source": [
    "## <h3 align=\"center\"> © IBM Corporation 2021. All rights reserved. <h3/>\n"
   ]
  }
 ],
 "metadata": {
  "kernelspec": {
   "display_name": "Python",
   "language": "python",
   "name": "conda-env-python-py"
  },
  "language_info": {
   "codemirror_mode": {
    "name": "ipython",
    "version": 3
   },
   "file_extension": ".py",
   "mimetype": "text/x-python",
   "name": "python",
   "nbconvert_exporter": "python",
   "pygments_lexer": "ipython3",
   "version": "3.7.12"
  }
 },
 "nbformat": 4,
 "nbformat_minor": 4
}
